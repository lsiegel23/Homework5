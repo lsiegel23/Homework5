{
 "cells": [
  {
   "cell_type": "markdown",
   "metadata": {},
   "source": [
    "# Unit 5 - Financial Planning\n"
   ]
  },
  {
   "cell_type": "code",
   "execution_count": 18,
   "metadata": {},
   "outputs": [],
   "source": [
    "# Initial imports\n",
    "import os\n",
    "import requests\n",
    "import pandas as pd\n",
    "from dotenv import load_dotenv\n",
    "import alpaca_trade_api as tradeapi\n",
    "from MCForecastTools import MCSimulation\n",
    "import json\n",
    "%matplotlib inline"
   ]
  },
  {
   "cell_type": "code",
   "execution_count": 19,
   "metadata": {},
   "outputs": [
    {
     "data": {
      "text/plain": [
       "True"
      ]
     },
     "execution_count": 19,
     "metadata": {},
     "output_type": "execute_result"
    }
   ],
   "source": [
    "# Load .env enviroment variables\n",
    "load_dotenv()"
   ]
  },
  {
   "cell_type": "markdown",
   "metadata": {},
   "source": [
    "## Part 1 - Personal Finance Planner"
   ]
  },
  {
   "cell_type": "code",
   "execution_count": 20,
   "metadata": {},
   "outputs": [],
   "source": [
    "# Set monthly household income\n",
    "monthly_income = 12000"
   ]
  },
  {
   "cell_type": "markdown",
   "metadata": {},
   "source": [
    "### Collect Crypto Prices Using the `requests` Library"
   ]
  },
  {
   "cell_type": "code",
   "execution_count": 21,
   "metadata": {},
   "outputs": [],
   "source": [
    "# Current amount of crypto assets\n",
    "my_btc = 1.2\n",
    "my_eth = 5.3"
   ]
  },
  {
   "cell_type": "code",
   "execution_count": 22,
   "metadata": {},
   "outputs": [],
   "source": [
    "# Crypto API URLs\n",
    "btc_url = \"https://api.alternative.me/v2/ticker/Bitcoin/?convert=USD\"\n",
    "eth_url = \"https://api.alternative.me/v2/ticker/Ethereum/?convert=USD\""
   ]
  },
  {
   "cell_type": "code",
   "execution_count": 23,
   "metadata": {},
   "outputs": [
    {
     "name": "stdout",
     "output_type": "stream",
     "text": [
      "The current value of your 11413.69 BTC is $13696.43\n",
      "The current value of your 384.9 ETH is $2039.97\n"
     ]
    }
   ],
   "source": [
    "my_eth_response = requests.get(eth_url)\n",
    "my_btc_response = requests.get(btc_url)\n",
    "# Compute current value of my crpto\n",
    "\n",
    "my_btc_json = my_btc_response.json()\n",
    "my_eth_json = my_eth_response.json()\n",
    "\n",
    "# Fetch current BTC price\n",
    "\n",
    "my_btc_price = my_btc_json['data']['1']['quotes']['USD']['price']\n",
    "\n",
    "# Fetch current ETH price\n",
    "\n",
    "my_eth_price = my_eth_json['data']['1027']['quotes']['USD']['price']\n",
    "\n",
    "my_btc_value = my_btc * my_btc_price\n",
    "my_eth_value = my_eth * my_eth_price\n",
    "\n",
    "# Print current crypto wallet balance\n",
    "print(f\"The current value of your {my_btc_price} BTC is ${my_btc_value:0.2f}\")\n",
    "print(f\"The current value of your {my_eth_price} ETH is ${my_eth_value:0.2f}\")"
   ]
  },
  {
   "cell_type": "markdown",
   "metadata": {},
   "source": [
    "### Collect Investments Data Using Alpaca: `SPY` (stocks) and `AGG` (bonds)"
   ]
  },
  {
   "cell_type": "code",
   "execution_count": 24,
   "metadata": {},
   "outputs": [],
   "source": [
    "# Current amount of shares\n",
    "my_agg = 200\n",
    "my_spy = 50"
   ]
  },
  {
   "cell_type": "code",
   "execution_count": 25,
   "metadata": {},
   "outputs": [],
   "source": [
    "# Set Alpaca API key and secret\n",
    "alpaca_api_key = os.getenv(\"ALPACA_API_KEY\")\n",
    "alpaca_secret_key = os.getenv(\"ALPACA_SECRET_KEY\")\n",
    "\n",
    "# Create the Alpaca API object\n",
    "alpaca = tradeapi.REST(\n",
    "    alpaca_api_key,\n",
    "    alpaca_secret_key,\n",
    "    api_version=\"v2\")\n"
   ]
  },
  {
   "cell_type": "code",
   "execution_count": 26,
   "metadata": {},
   "outputs": [
    {
     "name": "stdout",
     "output_type": "stream",
     "text": [
      "Current AGG closing price: $118.62\n",
      "Current SPY closing price: $342.94\n"
     ]
    }
   ],
   "source": [
    "# Format current date as ISO format\n",
    "today = pd.Timestamp(\"2020-08-24\", tz=\"America/Chicago\").isoformat()\n",
    "\n",
    "# # Set the tickers\n",
    "tickers = [\"AGG\", \"SPY\"]\n",
    "\n",
    "# # Set timeframe to '1D' for Alpaca API\n",
    "timeframe = \"1D\"\n",
    "\n",
    "# # Get current closing prices for SPY and AGG\n",
    "tickers_info_df = alpaca.get_barset(tickers, timeframe, start= today).df\n",
    "\n",
    "\n",
    "spy_close_price = tickers_info_df[\"SPY\"][\"close\"][0]\n",
    "agg_close_price = tickers_info_df[\"AGG\"][\"close\"][0]\n",
    "agg_close_price\n",
    "\n",
    "\n",
    "# Print AGG and SPY close prices\n",
    "print(f\"Current AGG closing price: ${agg_close_price}\")\n",
    "print(f\"Current SPY closing price: ${spy_close_price}\")"
   ]
  },
  {
   "cell_type": "code",
   "execution_count": 27,
   "metadata": {},
   "outputs": [
    {
     "name": "stdout",
     "output_type": "stream",
     "text": [
      "The current value of your 50 SPY shares is $17147.00\n",
      "The current value of your 200 AGG shares is $23724.00\n"
     ]
    }
   ],
   "source": [
    "# Compute the current value of shares\n",
    "my_spy_value = my_spy * spy_close_price\n",
    "my_agg_value = my_agg * agg_close_price\n",
    "\n",
    "# Print current value of share\n",
    "print(f\"The current value of your {my_spy} SPY shares is ${my_spy_value:0.2f}\")\n",
    "print(f\"The current value of your {my_agg} AGG shares is ${my_agg_value:0.2f}\")"
   ]
  },
  {
   "cell_type": "markdown",
   "metadata": {},
   "source": [
    "### Savings Health Analysis"
   ]
  },
  {
   "cell_type": "code",
   "execution_count": 28,
   "metadata": {},
   "outputs": [
    {
     "data": {
      "text/html": [
       "<div>\n",
       "<style scoped>\n",
       "    .dataframe tbody tr th:only-of-type {\n",
       "        vertical-align: middle;\n",
       "    }\n",
       "\n",
       "    .dataframe tbody tr th {\n",
       "        vertical-align: top;\n",
       "    }\n",
       "\n",
       "    .dataframe thead th {\n",
       "        text-align: right;\n",
       "    }\n",
       "</style>\n",
       "<table border=\"1\" class=\"dataframe\">\n",
       "  <thead>\n",
       "    <tr style=\"text-align: right;\">\n",
       "      <th></th>\n",
       "      <th>Amount</th>\n",
       "    </tr>\n",
       "  </thead>\n",
       "  <tbody>\n",
       "    <tr>\n",
       "      <th>Crypto</th>\n",
       "      <td>15736.398</td>\n",
       "    </tr>\n",
       "    <tr>\n",
       "      <th>Stock</th>\n",
       "      <td>40871.000</td>\n",
       "    </tr>\n",
       "  </tbody>\n",
       "</table>\n",
       "</div>"
      ],
      "text/plain": [
       "           Amount\n",
       "Crypto  15736.398\n",
       "Stock   40871.000"
      ]
     },
     "execution_count": 28,
     "metadata": {},
     "output_type": "execute_result"
    }
   ],
   "source": [
    "# Create savings DataFrame\n",
    "crypto_total = my_btc_value + my_eth_value\n",
    "shares_total = my_spy_value + my_agg_value\n",
    "\n",
    "data = {'Amount':[crypto_total, shares_total]}\n",
    "df_savings = pd.DataFrame(data, index = ['Crypto', 'Stock'])\n",
    "df_savings\n",
    "# Create DataFrame \n",
    "# df = pd.DataFrame(data) \n",
    "  \n",
    "# # Print the output. \n",
    "# df \n",
    "\n",
    "# Display savings DataFrame\n",
    "#display(df_savings)"
   ]
  },
  {
   "cell_type": "code",
   "execution_count": 29,
   "metadata": {},
   "outputs": [
    {
     "data": {
      "text/plain": [
       "array([<matplotlib.axes._subplots.AxesSubplot object at 0x000002A0B1F9EE48>],\n",
       "      dtype=object)"
      ]
     },
     "execution_count": 29,
     "metadata": {},
     "output_type": "execute_result"
    },
    {
     "data": {
      "image/png": "[encoded data removed]",
      "text/plain": [
       "<Figure size 432x288 with 1 Axes>"
      ]
     },
     "metadata": {},
     "output_type": "display_data"
    }
   ],
   "source": [
    "# Plot savings pie chart\n",
    "my_labels = 'Crypto','Shares'\n",
    "df_savings.plot.pie(title = \"Savings Portfolio Breakdown\", labels=my_labels,subplots=True)\n"
   ]
  },
  {
   "cell_type": "code",
   "execution_count": 30,
   "metadata": {},
   "outputs": [
    {
     "name": "stdout",
     "output_type": "stream",
     "text": [
      "36000\n",
      "56607.398\n",
      "You're Prepared\n"
     ]
    }
   ],
   "source": [
    "# Set ideal emergency fund\n",
    "emergency_fund = monthly_income * 3\n",
    "print(emergency_fund)\n",
    "# Calculate total amount of savings\n",
    "total_savings = crypto_total + shares_total\n",
    "print(total_savings)\n",
    "# Validate saving health\n",
    "if total_savings > emergency_fund:\n",
    "    print(\"You're Prepared\")\n",
    "else:\n",
    "    print(\"You NEED to Save\")\n"
   ]
  },
  {
   "cell_type": "markdown",
   "metadata": {},
   "source": [
    "## Part 2 - Retirement Planning\n",
    "\n",
    "### Monte Carlo Simulation"
   ]
  },
  {
   "cell_type": "code",
   "execution_count": 32,
   "metadata": {},
   "outputs": [],
   "source": [
    "# Set start and end dates of five years back from today.\n",
    "# Sample results may vary from the solution based on the time frame chosen\n",
    "timeframe = \"1D\"\n",
    "start_date = pd.Timestamp('2015-08-07', tz='America/New_York').isoformat()\n",
    "end_date = pd.Timestamp('2020-08-07', tz='America/New_York').isoformat()"
   ]
  },
  {
   "cell_type": "code",
   "execution_count": 33,
   "metadata": {},
   "outputs": [
    {
     "data": {
      "text/html": [
       "<div>\n",
       "<style scoped>\n",
       "    .dataframe tbody tr th:only-of-type {\n",
       "        vertical-align: middle;\n",
       "    }\n",
       "\n",
       "    .dataframe tbody tr th {\n",
       "        vertical-align: top;\n",
       "    }\n",
       "\n",
       "    .dataframe thead tr th {\n",
       "        text-align: left;\n",
       "    }\n",
       "</style>\n",
       "<table border=\"1\" class=\"dataframe\">\n",
       "  <thead>\n",
       "    <tr>\n",
       "      <th></th>\n",
       "      <th colspan=\"5\" halign=\"left\">AGG</th>\n",
       "      <th colspan=\"5\" halign=\"left\">SPY</th>\n",
       "    </tr>\n",
       "    <tr>\n",
       "      <th></th>\n",
       "      <th>open</th>\n",
       "      <th>high</th>\n",
       "      <th>low</th>\n",
       "      <th>close</th>\n",
       "      <th>volume</th>\n",
       "      <th>open</th>\n",
       "      <th>high</th>\n",
       "      <th>low</th>\n",
       "      <th>close</th>\n",
       "      <th>volume</th>\n",
       "    </tr>\n",
       "  </thead>\n",
       "  <tbody>\n",
       "    <tr>\n",
       "      <th>2020-08-03 00:00:00-04:00</th>\n",
       "      <td>119.37</td>\n",
       "      <td>119.40</td>\n",
       "      <td>119.1903</td>\n",
       "      <td>119.400</td>\n",
       "      <td>24615464</td>\n",
       "      <td>328.3200</td>\n",
       "      <td>329.62</td>\n",
       "      <td>327.73</td>\n",
       "      <td>328.76</td>\n",
       "      <td>89861354</td>\n",
       "    </tr>\n",
       "    <tr>\n",
       "      <th>2020-08-04 00:00:00-04:00</th>\n",
       "      <td>119.42</td>\n",
       "      <td>119.63</td>\n",
       "      <td>119.4200</td>\n",
       "      <td>119.630</td>\n",
       "      <td>21512268</td>\n",
       "      <td>327.8600</td>\n",
       "      <td>330.06</td>\n",
       "      <td>327.86</td>\n",
       "      <td>330.03</td>\n",
       "      <td>73684427</td>\n",
       "    </tr>\n",
       "    <tr>\n",
       "      <th>2020-08-05 00:00:00-04:00</th>\n",
       "      <td>119.39</td>\n",
       "      <td>119.49</td>\n",
       "      <td>119.3100</td>\n",
       "      <td>119.400</td>\n",
       "      <td>34239733</td>\n",
       "      <td>331.4700</td>\n",
       "      <td>332.39</td>\n",
       "      <td>331.18</td>\n",
       "      <td>332.06</td>\n",
       "      <td>72941562</td>\n",
       "    </tr>\n",
       "    <tr>\n",
       "      <th>2020-08-06 00:00:00-04:00</th>\n",
       "      <td>119.62</td>\n",
       "      <td>119.73</td>\n",
       "      <td>119.5300</td>\n",
       "      <td>119.580</td>\n",
       "      <td>9021388</td>\n",
       "      <td>331.4799</td>\n",
       "      <td>334.46</td>\n",
       "      <td>331.13</td>\n",
       "      <td>334.31</td>\n",
       "      <td>76988181</td>\n",
       "    </tr>\n",
       "    <tr>\n",
       "      <th>2020-08-07 00:00:00-04:00</th>\n",
       "      <td>119.66</td>\n",
       "      <td>119.73</td>\n",
       "      <td>119.3950</td>\n",
       "      <td>119.445</td>\n",
       "      <td>8830420</td>\n",
       "      <td>333.2800</td>\n",
       "      <td>334.88</td>\n",
       "      <td>332.30</td>\n",
       "      <td>334.55</td>\n",
       "      <td>98710236</td>\n",
       "    </tr>\n",
       "  </tbody>\n",
       "</table>\n",
       "</div>"
      ],
      "text/plain": [
       "                              AGG                                       \\\n",
       "                             open    high       low    close    volume   \n",
       "2020-08-03 00:00:00-04:00  119.37  119.40  119.1903  119.400  24615464   \n",
       "2020-08-04 00:00:00-04:00  119.42  119.63  119.4200  119.630  21512268   \n",
       "2020-08-05 00:00:00-04:00  119.39  119.49  119.3100  119.400  34239733   \n",
       "2020-08-06 00:00:00-04:00  119.62  119.73  119.5300  119.580   9021388   \n",
       "2020-08-07 00:00:00-04:00  119.66  119.73  119.3950  119.445   8830420   \n",
       "\n",
       "                                SPY                                    \n",
       "                               open    high     low   close    volume  \n",
       "2020-08-03 00:00:00-04:00  328.3200  329.62  327.73  328.76  89861354  \n",
       "2020-08-04 00:00:00-04:00  327.8600  330.06  327.86  330.03  73684427  \n",
       "2020-08-05 00:00:00-04:00  331.4700  332.39  331.18  332.06  72941562  \n",
       "2020-08-06 00:00:00-04:00  331.4799  334.46  331.13  334.31  76988181  \n",
       "2020-08-07 00:00:00-04:00  333.2800  334.88  332.30  334.55  98710236  "
      ]
     },
     "execution_count": 33,
     "metadata": {},
     "output_type": "execute_result"
    }
   ],
   "source": [
    "# Get 5 years' worth of historical data for SPY and AGG\n",
    "tickers= [\"AGG\", \"SPY\"]\n",
    "df_ticker = alpaca.get_barset(\n",
    "    tickers,\n",
    "    timeframe,\n",
    "    start=start_date,\n",
    "    end=end_date\n",
    ").df\n",
    "df_ticker.tail()\n"
   ]
  },
  {
   "cell_type": "code",
   "execution_count": 34,
   "metadata": {
    "collapsed": true,
    "jupyter": {
     "outputs_hidden": true
    }
   },
   "outputs": [
    {
     "data": {
      "text/plain": [
       "\u001b[1;31mInit signature:\u001b[0m\n",
       "\u001b[0mMCSimulation\u001b[0m\u001b[1;33m(\u001b[0m\u001b[1;33m\n",
       "\u001b[0m    \u001b[0mportfolio_data\u001b[0m\u001b[1;33m,\u001b[0m\u001b[1;33m\n",
       "\u001b[0m    \u001b[0mweights\u001b[0m\u001b[1;33m=\u001b[0m\u001b[1;34m''\u001b[0m\u001b[1;33m,\u001b[0m\u001b[1;33m\n",
       "\u001b[0m    \u001b[0mnum_simulation\u001b[0m\u001b[1;33m=\u001b[0m\u001b[1;36m1000\u001b[0m\u001b[1;33m,\u001b[0m\u001b[1;33m\n",
       "\u001b[0m    \u001b[0mnum_trading_days\u001b[0m\u001b[1;33m=\u001b[0m\u001b[1;36m252\u001b[0m\u001b[1;33m,\u001b[0m\u001b[1;33m\n",
       "\u001b[0m\u001b[1;33m)\u001b[0m\u001b[1;33m\u001b[0m\u001b[1;33m\u001b[0m\u001b[0m\n",
       "\u001b[1;31mDocstring:\u001b[0m     \n",
       "A Python class for runnning Monte Carlo simulation on portfolio price data. \n",
       "\n",
       "...\n",
       "\n",
       "Attributes\n",
       "----------\n",
       "portfolio_data : pandas.DataFrame\n",
       "    portfolio dataframe\n",
       "weights: list(float)\n",
       "    portfolio investment breakdown\n",
       "nSim: int\n",
       "    number of samples in simulation\n",
       "nTrading: int\n",
       "    number of trading days to simulate\n",
       "simulated_return : pandas.DataFrame\n",
       "    Simulated data from Monte Carlo\n",
       "confidence_interval : pandas.Series\n",
       "    the 95% confidence intervals for simulated final cumulative returns\n",
       "    \n",
       "\u001b[1;31mInit docstring:\u001b[0m\n",
       "Constructs all the necessary attributes for the MCSimulation object.\n",
       "\n",
       "Parameters\n",
       "----------\n",
       "portfolio_data: pandas.DataFrame\n",
       "    DataFrame containing stock price information from Alpaca API\n",
       "weights: list(float)\n",
       "    A list fractions representing percentage of total investment per stock. DEFAULT: Equal distribution\n",
       "num_simulation: int\n",
       "    Number of simulation samples. DEFAULT: 1000 simulation samples\n",
       "num_trading_days: int\n",
       "    Number of trading days to simulate. DEFAULT: 252 days (1 year of business days)\n",
       "\u001b[1;31mFile:\u001b[0m           c:\\users\\levis\\class_notes\\smu-dal-fin-pt-07-2020-u-c\\02-homework\\05-apis\\instructions\\starter_code\\mcforecasttools.py\n",
       "\u001b[1;31mType:\u001b[0m           type\n",
       "\u001b[1;31mSubclasses:\u001b[0m     \n"
      ]
     },
     "metadata": {},
     "output_type": "display_data"
    }
   ],
   "source": [
    "# Configuring a Monte Carlo simulation to forecast 30 years cumulative returns\n",
    "?MCSimulation"
   ]
  },
  {
   "cell_type": "code",
   "execution_count": 35,
   "metadata": {},
   "outputs": [
    {
     "data": {
      "text/html": [
       "<div>\n",
       "<style scoped>\n",
       "    .dataframe tbody tr th:only-of-type {\n",
       "        vertical-align: middle;\n",
       "    }\n",
       "\n",
       "    .dataframe tbody tr th {\n",
       "        vertical-align: top;\n",
       "    }\n",
       "\n",
       "    .dataframe thead tr th {\n",
       "        text-align: left;\n",
       "    }\n",
       "</style>\n",
       "<table border=\"1\" class=\"dataframe\">\n",
       "  <thead>\n",
       "    <tr>\n",
       "      <th></th>\n",
       "      <th colspan=\"6\" halign=\"left\">AGG</th>\n",
       "      <th colspan=\"6\" halign=\"left\">SPY</th>\n",
       "    </tr>\n",
       "    <tr>\n",
       "      <th></th>\n",
       "      <th>open</th>\n",
       "      <th>high</th>\n",
       "      <th>low</th>\n",
       "      <th>close</th>\n",
       "      <th>volume</th>\n",
       "      <th>daily_return</th>\n",
       "      <th>open</th>\n",
       "      <th>high</th>\n",
       "      <th>low</th>\n",
       "      <th>close</th>\n",
       "      <th>volume</th>\n",
       "      <th>daily_return</th>\n",
       "    </tr>\n",
       "  </thead>\n",
       "  <tbody>\n",
       "    <tr>\n",
       "      <th>2015-08-07 00:00:00-04:00</th>\n",
       "      <td>109.14</td>\n",
       "      <td>109.2750</td>\n",
       "      <td>109.035</td>\n",
       "      <td>109.21</td>\n",
       "      <td>2041167</td>\n",
       "      <td>NaN</td>\n",
       "      <td>208.16</td>\n",
       "      <td>208.34</td>\n",
       "      <td>206.87</td>\n",
       "      <td>207.93</td>\n",
       "      <td>87669782</td>\n",
       "      <td>NaN</td>\n",
       "    </tr>\n",
       "    <tr>\n",
       "      <th>2015-08-10 00:00:00-04:00</th>\n",
       "      <td>109.15</td>\n",
       "      <td>109.1700</td>\n",
       "      <td>108.920</td>\n",
       "      <td>109.06</td>\n",
       "      <td>1149778</td>\n",
       "      <td>-0.001374</td>\n",
       "      <td>209.28</td>\n",
       "      <td>210.67</td>\n",
       "      <td>209.28</td>\n",
       "      <td>210.58</td>\n",
       "      <td>66755890</td>\n",
       "      <td>0.012745</td>\n",
       "    </tr>\n",
       "    <tr>\n",
       "      <th>2015-08-11 00:00:00-04:00</th>\n",
       "      <td>109.42</td>\n",
       "      <td>109.5765</td>\n",
       "      <td>109.284</td>\n",
       "      <td>109.42</td>\n",
       "      <td>1420907</td>\n",
       "      <td>0.003301</td>\n",
       "      <td>208.98</td>\n",
       "      <td>209.47</td>\n",
       "      <td>207.76</td>\n",
       "      <td>208.63</td>\n",
       "      <td>88424557</td>\n",
       "      <td>-0.009260</td>\n",
       "    </tr>\n",
       "    <tr>\n",
       "      <th>2015-08-12 00:00:00-04:00</th>\n",
       "      <td>109.55</td>\n",
       "      <td>109.7100</td>\n",
       "      <td>109.350</td>\n",
       "      <td>109.36</td>\n",
       "      <td>1468979</td>\n",
       "      <td>-0.000548</td>\n",
       "      <td>207.11</td>\n",
       "      <td>209.14</td>\n",
       "      <td>205.36</td>\n",
       "      <td>208.89</td>\n",
       "      <td>136171450</td>\n",
       "      <td>0.001246</td>\n",
       "    </tr>\n",
       "    <tr>\n",
       "      <th>2015-08-13 00:00:00-04:00</th>\n",
       "      <td>109.36</td>\n",
       "      <td>109.3651</td>\n",
       "      <td>109.110</td>\n",
       "      <td>109.15</td>\n",
       "      <td>1465173</td>\n",
       "      <td>-0.001920</td>\n",
       "      <td>208.73</td>\n",
       "      <td>209.55</td>\n",
       "      <td>208.01</td>\n",
       "      <td>208.63</td>\n",
       "      <td>77197796</td>\n",
       "      <td>-0.001245</td>\n",
       "    </tr>\n",
       "  </tbody>\n",
       "</table>\n",
       "</div>"
      ],
      "text/plain": [
       "                              AGG                                      \\\n",
       "                             open      high      low   close   volume   \n",
       "2015-08-07 00:00:00-04:00  109.14  109.2750  109.035  109.21  2041167   \n",
       "2015-08-10 00:00:00-04:00  109.15  109.1700  108.920  109.06  1149778   \n",
       "2015-08-11 00:00:00-04:00  109.42  109.5765  109.284  109.42  1420907   \n",
       "2015-08-12 00:00:00-04:00  109.55  109.7100  109.350  109.36  1468979   \n",
       "2015-08-13 00:00:00-04:00  109.36  109.3651  109.110  109.15  1465173   \n",
       "\n",
       "                                           SPY                          \\\n",
       "                          daily_return    open    high     low   close   \n",
       "2015-08-07 00:00:00-04:00          NaN  208.16  208.34  206.87  207.93   \n",
       "2015-08-10 00:00:00-04:00    -0.001374  209.28  210.67  209.28  210.58   \n",
       "2015-08-11 00:00:00-04:00     0.003301  208.98  209.47  207.76  208.63   \n",
       "2015-08-12 00:00:00-04:00    -0.000548  207.11  209.14  205.36  208.89   \n",
       "2015-08-13 00:00:00-04:00    -0.001920  208.73  209.55  208.01  208.63   \n",
       "\n",
       "                                                   \n",
       "                              volume daily_return  \n",
       "2015-08-07 00:00:00-04:00   87669782          NaN  \n",
       "2015-08-10 00:00:00-04:00   66755890     0.012745  \n",
       "2015-08-11 00:00:00-04:00   88424557    -0.009260  \n",
       "2015-08-12 00:00:00-04:00  136171450     0.001246  \n",
       "2015-08-13 00:00:00-04:00   77197796    -0.001245  "
      ]
     },
     "execution_count": 35,
     "metadata": {},
     "output_type": "execute_result"
    }
   ],
   "source": [
    "# Printing the simulation input data\n",
    "MC_thirtyyear = MCSimulation(\n",
    "    portfolio_data = df_ticker,\n",
    "    weights = [.4,.6],\n",
    "    num_simulation = 500,\n",
    "    num_trading_days = 252*30)\n",
    "MC_thirtyyear.portfolio_data.head()"
   ]
  },
  {
   "cell_type": "code",
   "execution_count": 36,
   "metadata": {},
   "outputs": [
    {
     "name": "stdout",
     "output_type": "stream",
     "text": [
      "Running Monte Carlo simulation number 0.\n",
      "Running Monte Carlo simulation number 10.\n",
      "Running Monte Carlo simulation number 20.\n",
      "Running Monte Carlo simulation number 30.\n",
      "Running Monte Carlo simulation number 40.\n",
      "Running Monte Carlo simulation number 50.\n",
      "Running Monte Carlo simulation number 60.\n",
      "Running Monte Carlo simulation number 70.\n",
      "Running Monte Carlo simulation number 80.\n",
      "Running Monte Carlo simulation number 90.\n",
      "Running Monte Carlo simulation number 100.\n",
      "Running Monte Carlo simulation number 110.\n",
      "Running Monte Carlo simulation number 120.\n",
      "Running Monte Carlo simulation number 130.\n",
      "Running Monte Carlo simulation number 140.\n",
      "Running Monte Carlo simulation number 150.\n",
      "Running Monte Carlo simulation number 160.\n",
      "Running Monte Carlo simulation number 170.\n",
      "Running Monte Carlo simulation number 180.\n",
      "Running Monte Carlo simulation number 190.\n",
      "Running Monte Carlo simulation number 200.\n",
      "Running Monte Carlo simulation number 210.\n",
      "Running Monte Carlo simulation number 220.\n",
      "Running Monte Carlo simulation number 230.\n",
      "Running Monte Carlo simulation number 240.\n",
      "Running Monte Carlo simulation number 250.\n",
      "Running Monte Carlo simulation number 260.\n",
      "Running Monte Carlo simulation number 270.\n",
      "Running Monte Carlo simulation number 280.\n",
      "Running Monte Carlo simulation number 290.\n",
      "Running Monte Carlo simulation number 300.\n",
      "Running Monte Carlo simulation number 310.\n",
      "Running Monte Carlo simulation number 320.\n",
      "Running Monte Carlo simulation number 330.\n",
      "Running Monte Carlo simulation number 340.\n",
      "Running Monte Carlo simulation number 350.\n",
      "Running Monte Carlo simulation number 360.\n",
      "Running Monte Carlo simulation number 370.\n",
      "Running Monte Carlo simulation number 380.\n",
      "Running Monte Carlo simulation number 390.\n",
      "Running Monte Carlo simulation number 400.\n",
      "Running Monte Carlo simulation number 410.\n",
      "Running Monte Carlo simulation number 420.\n",
      "Running Monte Carlo simulation number 430.\n",
      "Running Monte Carlo simulation number 440.\n",
      "Running Monte Carlo simulation number 450.\n",
      "Running Monte Carlo simulation number 460.\n",
      "Running Monte Carlo simulation number 470.\n",
      "Running Monte Carlo simulation number 480.\n",
      "Running Monte Carlo simulation number 490.\n"
     ]
    },
    {
     "data": {
      "text/html": [
       "<div>\n",
       "<style scoped>\n",
       "    .dataframe tbody tr th:only-of-type {\n",
       "        vertical-align: middle;\n",
       "    }\n",
       "\n",
       "    .dataframe tbody tr th {\n",
       "        vertical-align: top;\n",
       "    }\n",
       "\n",
       "    .dataframe thead th {\n",
       "        text-align: right;\n",
       "    }\n",
       "</style>\n",
       "<table border=\"1\" class=\"dataframe\">\n",
       "  <thead>\n",
       "    <tr style=\"text-align: right;\">\n",
       "      <th></th>\n",
       "      <th>0</th>\n",
       "      <th>1</th>\n",
       "      <th>2</th>\n",
       "      <th>3</th>\n",
       "      <th>4</th>\n",
       "      <th>5</th>\n",
       "      <th>6</th>\n",
       "      <th>7</th>\n",
       "      <th>8</th>\n",
       "      <th>9</th>\n",
       "      <th>...</th>\n",
       "      <th>490</th>\n",
       "      <th>491</th>\n",
       "      <th>492</th>\n",
       "      <th>493</th>\n",
       "      <th>494</th>\n",
       "      <th>495</th>\n",
       "      <th>496</th>\n",
       "      <th>497</th>\n",
       "      <th>498</th>\n",
       "      <th>499</th>\n",
       "    </tr>\n",
       "  </thead>\n",
       "  <tbody>\n",
       "    <tr>\n",
       "      <th>0</th>\n",
       "      <td>1.000000</td>\n",
       "      <td>1.000000</td>\n",
       "      <td>1.000000</td>\n",
       "      <td>1.000000</td>\n",
       "      <td>1.000000</td>\n",
       "      <td>1.000000</td>\n",
       "      <td>1.000000</td>\n",
       "      <td>1.000000</td>\n",
       "      <td>1.000000</td>\n",
       "      <td>1.000000</td>\n",
       "      <td>...</td>\n",
       "      <td>1.000000</td>\n",
       "      <td>1.000000</td>\n",
       "      <td>1.000000</td>\n",
       "      <td>1.000000</td>\n",
       "      <td>1.000000</td>\n",
       "      <td>1.000000</td>\n",
       "      <td>1.000000</td>\n",
       "      <td>1.000000</td>\n",
       "      <td>1.000000</td>\n",
       "      <td>1.000000</td>\n",
       "    </tr>\n",
       "    <tr>\n",
       "      <th>1</th>\n",
       "      <td>0.980499</td>\n",
       "      <td>1.002558</td>\n",
       "      <td>1.009807</td>\n",
       "      <td>1.011231</td>\n",
       "      <td>0.996879</td>\n",
       "      <td>0.994478</td>\n",
       "      <td>1.004296</td>\n",
       "      <td>1.002061</td>\n",
       "      <td>1.005950</td>\n",
       "      <td>1.001572</td>\n",
       "      <td>...</td>\n",
       "      <td>1.004528</td>\n",
       "      <td>1.013133</td>\n",
       "      <td>0.998374</td>\n",
       "      <td>0.999300</td>\n",
       "      <td>0.995074</td>\n",
       "      <td>1.007595</td>\n",
       "      <td>1.000440</td>\n",
       "      <td>0.996025</td>\n",
       "      <td>0.989202</td>\n",
       "      <td>0.990935</td>\n",
       "    </tr>\n",
       "    <tr>\n",
       "      <th>2</th>\n",
       "      <td>0.989182</td>\n",
       "      <td>1.003866</td>\n",
       "      <td>0.997873</td>\n",
       "      <td>1.016898</td>\n",
       "      <td>0.998388</td>\n",
       "      <td>0.994228</td>\n",
       "      <td>1.004651</td>\n",
       "      <td>1.012840</td>\n",
       "      <td>0.997356</td>\n",
       "      <td>0.992691</td>\n",
       "      <td>...</td>\n",
       "      <td>1.014827</td>\n",
       "      <td>1.017870</td>\n",
       "      <td>0.994128</td>\n",
       "      <td>0.994144</td>\n",
       "      <td>0.998696</td>\n",
       "      <td>1.000586</td>\n",
       "      <td>1.007717</td>\n",
       "      <td>1.008884</td>\n",
       "      <td>0.974202</td>\n",
       "      <td>0.990156</td>\n",
       "    </tr>\n",
       "    <tr>\n",
       "      <th>3</th>\n",
       "      <td>0.989997</td>\n",
       "      <td>1.011438</td>\n",
       "      <td>1.002839</td>\n",
       "      <td>1.023793</td>\n",
       "      <td>1.002562</td>\n",
       "      <td>1.000626</td>\n",
       "      <td>1.002250</td>\n",
       "      <td>1.017912</td>\n",
       "      <td>1.001924</td>\n",
       "      <td>0.990594</td>\n",
       "      <td>...</td>\n",
       "      <td>1.018360</td>\n",
       "      <td>0.998944</td>\n",
       "      <td>0.996359</td>\n",
       "      <td>0.990574</td>\n",
       "      <td>0.999466</td>\n",
       "      <td>0.997245</td>\n",
       "      <td>1.009943</td>\n",
       "      <td>1.006348</td>\n",
       "      <td>0.983578</td>\n",
       "      <td>0.979412</td>\n",
       "    </tr>\n",
       "    <tr>\n",
       "      <th>4</th>\n",
       "      <td>0.983861</td>\n",
       "      <td>0.996813</td>\n",
       "      <td>1.003776</td>\n",
       "      <td>1.034256</td>\n",
       "      <td>1.006230</td>\n",
       "      <td>0.991506</td>\n",
       "      <td>1.003541</td>\n",
       "      <td>1.023945</td>\n",
       "      <td>0.996564</td>\n",
       "      <td>0.973329</td>\n",
       "      <td>...</td>\n",
       "      <td>1.023932</td>\n",
       "      <td>0.998458</td>\n",
       "      <td>0.994393</td>\n",
       "      <td>0.996472</td>\n",
       "      <td>1.005149</td>\n",
       "      <td>0.984695</td>\n",
       "      <td>0.998771</td>\n",
       "      <td>1.008000</td>\n",
       "      <td>0.964527</td>\n",
       "      <td>0.982502</td>\n",
       "    </tr>\n",
       "    <tr>\n",
       "      <th>...</th>\n",
       "      <td>...</td>\n",
       "      <td>...</td>\n",
       "      <td>...</td>\n",
       "      <td>...</td>\n",
       "      <td>...</td>\n",
       "      <td>...</td>\n",
       "      <td>...</td>\n",
       "      <td>...</td>\n",
       "      <td>...</td>\n",
       "      <td>...</td>\n",
       "      <td>...</td>\n",
       "      <td>...</td>\n",
       "      <td>...</td>\n",
       "      <td>...</td>\n",
       "      <td>...</td>\n",
       "      <td>...</td>\n",
       "      <td>...</td>\n",
       "      <td>...</td>\n",
       "      <td>...</td>\n",
       "      <td>...</td>\n",
       "      <td>...</td>\n",
       "    </tr>\n",
       "    <tr>\n",
       "      <th>7556</th>\n",
       "      <td>2.814641</td>\n",
       "      <td>18.555463</td>\n",
       "      <td>6.825491</td>\n",
       "      <td>8.243349</td>\n",
       "      <td>4.179504</td>\n",
       "      <td>2.957046</td>\n",
       "      <td>37.670196</td>\n",
       "      <td>18.177949</td>\n",
       "      <td>14.483912</td>\n",
       "      <td>3.572243</td>\n",
       "      <td>...</td>\n",
       "      <td>7.403304</td>\n",
       "      <td>14.331542</td>\n",
       "      <td>1.518869</td>\n",
       "      <td>9.493678</td>\n",
       "      <td>30.082468</td>\n",
       "      <td>6.844032</td>\n",
       "      <td>5.473909</td>\n",
       "      <td>7.171613</td>\n",
       "      <td>10.629925</td>\n",
       "      <td>9.097481</td>\n",
       "    </tr>\n",
       "    <tr>\n",
       "      <th>7557</th>\n",
       "      <td>2.819868</td>\n",
       "      <td>18.755401</td>\n",
       "      <td>6.801879</td>\n",
       "      <td>8.210188</td>\n",
       "      <td>4.124539</td>\n",
       "      <td>2.944875</td>\n",
       "      <td>37.729388</td>\n",
       "      <td>18.162343</td>\n",
       "      <td>14.328514</td>\n",
       "      <td>3.508395</td>\n",
       "      <td>...</td>\n",
       "      <td>7.481220</td>\n",
       "      <td>14.283607</td>\n",
       "      <td>1.502893</td>\n",
       "      <td>9.473834</td>\n",
       "      <td>29.955239</td>\n",
       "      <td>6.874829</td>\n",
       "      <td>5.445908</td>\n",
       "      <td>7.229213</td>\n",
       "      <td>10.718329</td>\n",
       "      <td>9.061822</td>\n",
       "    </tr>\n",
       "    <tr>\n",
       "      <th>7558</th>\n",
       "      <td>2.790083</td>\n",
       "      <td>18.852451</td>\n",
       "      <td>6.751925</td>\n",
       "      <td>8.179365</td>\n",
       "      <td>4.125330</td>\n",
       "      <td>2.933510</td>\n",
       "      <td>37.691697</td>\n",
       "      <td>18.278427</td>\n",
       "      <td>14.285863</td>\n",
       "      <td>3.503039</td>\n",
       "      <td>...</td>\n",
       "      <td>7.386034</td>\n",
       "      <td>14.391951</td>\n",
       "      <td>1.512329</td>\n",
       "      <td>9.411602</td>\n",
       "      <td>29.977713</td>\n",
       "      <td>6.794830</td>\n",
       "      <td>5.467962</td>\n",
       "      <td>7.234433</td>\n",
       "      <td>10.647178</td>\n",
       "      <td>9.047067</td>\n",
       "    </tr>\n",
       "    <tr>\n",
       "      <th>7559</th>\n",
       "      <td>2.807628</td>\n",
       "      <td>18.853880</td>\n",
       "      <td>6.805146</td>\n",
       "      <td>8.132721</td>\n",
       "      <td>4.137650</td>\n",
       "      <td>2.929883</td>\n",
       "      <td>37.736908</td>\n",
       "      <td>18.276649</td>\n",
       "      <td>14.277461</td>\n",
       "      <td>3.507677</td>\n",
       "      <td>...</td>\n",
       "      <td>7.314555</td>\n",
       "      <td>14.410465</td>\n",
       "      <td>1.510052</td>\n",
       "      <td>9.436751</td>\n",
       "      <td>30.187617</td>\n",
       "      <td>6.825108</td>\n",
       "      <td>5.498232</td>\n",
       "      <td>7.133128</td>\n",
       "      <td>10.621898</td>\n",
       "      <td>9.002212</td>\n",
       "    </tr>\n",
       "    <tr>\n",
       "      <th>7560</th>\n",
       "      <td>2.827829</td>\n",
       "      <td>18.750756</td>\n",
       "      <td>6.756713</td>\n",
       "      <td>8.089568</td>\n",
       "      <td>4.139295</td>\n",
       "      <td>2.930750</td>\n",
       "      <td>37.628930</td>\n",
       "      <td>18.216706</td>\n",
       "      <td>14.418359</td>\n",
       "      <td>3.508160</td>\n",
       "      <td>...</td>\n",
       "      <td>7.292856</td>\n",
       "      <td>14.410640</td>\n",
       "      <td>1.522083</td>\n",
       "      <td>9.430245</td>\n",
       "      <td>29.820888</td>\n",
       "      <td>6.883349</td>\n",
       "      <td>5.485761</td>\n",
       "      <td>7.020141</td>\n",
       "      <td>10.685795</td>\n",
       "      <td>8.978991</td>\n",
       "    </tr>\n",
       "  </tbody>\n",
       "</table>\n",
       "<p>7561 rows × 500 columns</p>\n",
       "</div>"
      ],
      "text/plain": [
       "           0          1         2         3         4         5          6    \\\n",
       "0     1.000000   1.000000  1.000000  1.000000  1.000000  1.000000   1.000000   \n",
       "1     0.980499   1.002558  1.009807  1.011231  0.996879  0.994478   1.004296   \n",
       "2     0.989182   1.003866  0.997873  1.016898  0.998388  0.994228   1.004651   \n",
       "3     0.989997   1.011438  1.002839  1.023793  1.002562  1.000626   1.002250   \n",
       "4     0.983861   0.996813  1.003776  1.034256  1.006230  0.991506   1.003541   \n",
       "...        ...        ...       ...       ...       ...       ...        ...   \n",
       "7556  2.814641  18.555463  6.825491  8.243349  4.179504  2.957046  37.670196   \n",
       "7557  2.819868  18.755401  6.801879  8.210188  4.124539  2.944875  37.729388   \n",
       "7558  2.790083  18.852451  6.751925  8.179365  4.125330  2.933510  37.691697   \n",
       "7559  2.807628  18.853880  6.805146  8.132721  4.137650  2.929883  37.736908   \n",
       "7560  2.827829  18.750756  6.756713  8.089568  4.139295  2.930750  37.628930   \n",
       "\n",
       "            7          8         9    ...       490        491       492  \\\n",
       "0      1.000000   1.000000  1.000000  ...  1.000000   1.000000  1.000000   \n",
       "1      1.002061   1.005950  1.001572  ...  1.004528   1.013133  0.998374   \n",
       "2      1.012840   0.997356  0.992691  ...  1.014827   1.017870  0.994128   \n",
       "3      1.017912   1.001924  0.990594  ...  1.018360   0.998944  0.996359   \n",
       "4      1.023945   0.996564  0.973329  ...  1.023932   0.998458  0.994393   \n",
       "...         ...        ...       ...  ...       ...        ...       ...   \n",
       "7556  18.177949  14.483912  3.572243  ...  7.403304  14.331542  1.518869   \n",
       "7557  18.162343  14.328514  3.508395  ...  7.481220  14.283607  1.502893   \n",
       "7558  18.278427  14.285863  3.503039  ...  7.386034  14.391951  1.512329   \n",
       "7559  18.276649  14.277461  3.507677  ...  7.314555  14.410465  1.510052   \n",
       "7560  18.216706  14.418359  3.508160  ...  7.292856  14.410640  1.522083   \n",
       "\n",
       "           493        494       495       496       497        498       499  \n",
       "0     1.000000   1.000000  1.000000  1.000000  1.000000   1.000000  1.000000  \n",
       "1     0.999300   0.995074  1.007595  1.000440  0.996025   0.989202  0.990935  \n",
       "2     0.994144   0.998696  1.000586  1.007717  1.008884   0.974202  0.990156  \n",
       "3     0.990574   0.999466  0.997245  1.009943  1.006348   0.983578  0.979412  \n",
       "4     0.996472   1.005149  0.984695  0.998771  1.008000   0.964527  0.982502  \n",
       "...        ...        ...       ...       ...       ...        ...       ...  \n",
       "7556  9.493678  30.082468  6.844032  5.473909  7.171613  10.629925  9.097481  \n",
       "7557  9.473834  29.955239  6.874829  5.445908  7.229213  10.718329  9.061822  \n",
       "7558  9.411602  29.977713  6.794830  5.467962  7.234433  10.647178  9.047067  \n",
       "7559  9.436751  30.187617  6.825108  5.498232  7.133128  10.621898  9.002212  \n",
       "7560  9.430245  29.820888  6.883349  5.485761  7.020141  10.685795  8.978991  \n",
       "\n",
       "[7561 rows x 500 columns]"
      ]
     },
     "execution_count": 36,
     "metadata": {},
     "output_type": "execute_result"
    }
   ],
   "source": [
    "# Running a Monte Carlo simulation to forecast 30 years cumulative returns\n",
    "MC_thirtyyear.calc_cumulative_return()"
   ]
  },
  {
   "cell_type": "code",
   "execution_count": 37,
   "metadata": {},
   "outputs": [
    {
     "data": {
      "image/png": "[encoded data removed]",
      "text/plain": [
       "<Figure size 432x288 with 1 Axes>"
      ]
     },
     "metadata": {
      "needs_background": "light"
     },
     "output_type": "display_data"
    }
   ],
   "source": [
    "# Plot simulation outcomes\n",
    "line_plot = MC_thirtyyear.plot_simulation()\n",
    "\n",
    "line_plot.get_figure().savefig(\"MC_thirtyyear_sim_plot.png\", bbox_inches=\"tight\")"
   ]
  },
  {
   "cell_type": "code",
   "execution_count": 38,
   "metadata": {},
   "outputs": [
    {
     "data": {
      "image/png": "[encoded data removed]",
      "text/plain": [
       "<Figure size 432x288 with 1 Axes>"
      ]
     },
     "metadata": {
      "needs_background": "light"
     },
     "output_type": "display_data"
    }
   ],
   "source": [
    "# Plot probability distribution and confidence intervals\n",
    "dist_plot = MC_thirtyyear.plot_distribution()\n",
    "dist_plot.get_figure().savefig('MC_thirtyyear_dist_plot.png',bbox_inches='tight')"
   ]
  },
  {
   "cell_type": "markdown",
   "metadata": {},
   "source": [
    "### Retirement Analysis"
   ]
  },
  {
   "cell_type": "code",
   "execution_count": 40,
   "metadata": {},
   "outputs": [
    {
     "name": "stdout",
     "output_type": "stream",
     "text": [
      "count           500.000000\n",
      "mean             10.256342\n",
      "std               7.415067\n",
      "min               0.775454\n",
      "25%               5.142865\n",
      "50%               8.232705\n",
      "75%              12.796491\n",
      "max              55.080469\n",
      "95% CI Lower      2.535941\n",
      "95% CI Upper     31.202543\n",
      "Name: 7560, dtype: float64\n"
     ]
    }
   ],
   "source": [
    "# Fetch summary statistics from the Monte Carlo simulation results\n",
    "tbl = MC_thirtyyear.summarize_cumulative_return()\n",
    "\n",
    "# Print summary statistics\n",
    "print(tbl)"
   ]
  },
  {
   "cell_type": "markdown",
   "metadata": {},
   "source": [
    "### Given an initial investment of $20,000, what is the expected portfolio return in dollars at the 95% lower and upper confidence intervals?"
   ]
  },
  {
   "cell_type": "code",
   "execution_count": 41,
   "metadata": {},
   "outputs": [
    {
     "name": "stdout",
     "output_type": "stream",
     "text": [
      "There is a 95% chance that an initial investment of $20000 in the portfolio over the next 30 years will end within in the range of $50718.82 and $624050.85\n"
     ]
    }
   ],
   "source": [
    "# Set initial investment\n",
    "initial_investment = 20000\n",
    "\n",
    "# Use the lower and upper `95%` confidence intervals to calculate the range of the possible outcomes of our $20,000\n",
    "ci_lower = round(tbl[8]*20000,2)\n",
    "ci_upper = round(tbl[9]*20000,2)\n",
    "\n",
    "# Print results\n",
    "print(f\"There is a 95% chance that an initial investment of ${initial_investment} in the portfolio\"\n",
    "      f\" over the next 30 years will end within in the range of\"\n",
    "      f\" ${ci_lower} and ${ci_upper}\")"
   ]
  },
  {
   "cell_type": "markdown",
   "metadata": {},
   "source": [
    "### How would a 50% increase in the initial investment amount affect the expected portfolio return in dollars at the 95% lower and upper confidence intervals?"
   ]
  },
  {
   "cell_type": "code",
   "execution_count": 42,
   "metadata": {},
   "outputs": [
    {
     "name": "stdout",
     "output_type": "stream",
     "text": [
      "There is a 95% chance that an initial investment of $30000.0 in the portfolio over the next 30 years will end within in the range of $76078.24 and $936076.28\n"
     ]
    }
   ],
   "source": [
    "# Set initial investment\n",
    "initial_investment = 20000 * 1.5\n",
    "\n",
    "# Use the lower and upper `95%` confidence intervals to calculate the range of the possible outcomes of our $30,000\n",
    "ci_lower = round(tbl[8]*initial_investment,2)\n",
    "ci_upper = round(tbl[9]*initial_investment,2)\n",
    "\n",
    "# Print results\n",
    "print(f\"There is a 95% chance that an initial investment of ${initial_investment} in the portfolio\"\n",
    "      f\" over the next 30 years will end within in the range of\"\n",
    "      f\" ${ci_lower} and ${ci_upper}\")"
   ]
  },
  {
   "cell_type": "markdown",
   "metadata": {},
   "source": [
    "## Optional Challenge - Early Retirement\n",
    "\n",
    "\n",
    "### Five Years Retirement Option"
   ]
  },
  {
   "cell_type": "code",
   "execution_count": null,
   "metadata": {},
   "outputs": [],
   "source": [
    "# Configuring a Monte Carlo simulation to forecast 5 years cumulative returns\n",
    "# YOUR CODE HERE!"
   ]
  },
  {
   "cell_type": "code",
   "execution_count": null,
   "metadata": {},
   "outputs": [],
   "source": [
    "# Running a Monte Carlo simulation to forecast 5 years cumulative returns\n",
    "# YOUR CODE HERE!"
   ]
  },
  {
   "cell_type": "code",
   "execution_count": null,
   "metadata": {},
   "outputs": [],
   "source": [
    "# Plot simulation outcomes\n",
    "# YOUR CODE HERE!"
   ]
  },
  {
   "cell_type": "code",
   "execution_count": null,
   "metadata": {},
   "outputs": [],
   "source": [
    "# Plot probability distribution and confidence intervals\n",
    "# YOUR CODE HERE!"
   ]
  },
  {
   "cell_type": "code",
   "execution_count": null,
   "metadata": {},
   "outputs": [],
   "source": [
    "# Fetch summary statistics from the Monte Carlo simulation results\n",
    "# YOUR CODE HERE!\n",
    "\n",
    "# Print summary statistics\n",
    "print(tbl_five)"
   ]
  },
  {
   "cell_type": "code",
   "execution_count": null,
   "metadata": {},
   "outputs": [],
   "source": [
    "# Set initial investment\n",
    "# YOUR CODE HERE!\n",
    "\n",
    "# Use the lower and upper `95%` confidence intervals to calculate the range of the possible outcomes of our $60,000\n",
    "# YOUR CODE HERE!\n",
    "\n",
    "# Print results\n",
    "print(f\"There is a 95% chance that an initial investment of ${initial_investment} in the portfolio\"\n",
    "      f\" over the next 5 years will end within in the range of\"\n",
    "      f\" ${ci_lower_five} and ${ci_upper_five}\")"
   ]
  },
  {
   "cell_type": "markdown",
   "metadata": {},
   "source": [
    "### Ten Years Retirement Option"
   ]
  },
  {
   "cell_type": "code",
   "execution_count": null,
   "metadata": {},
   "outputs": [],
   "source": [
    "# Configuring a Monte Carlo simulation to forecast 10 years cumulative returns\n",
    "# YOUR CODE HERE!"
   ]
  },
  {
   "cell_type": "code",
   "execution_count": null,
   "metadata": {},
   "outputs": [],
   "source": [
    "# Running a Monte Carlo simulation to forecast 10 years cumulative returns\n",
    "# YOUR CODE HERE!"
   ]
  },
  {
   "cell_type": "code",
   "execution_count": null,
   "metadata": {},
   "outputs": [],
   "source": [
    "# Plot simulation outcomes\n",
    "line_plot = MC_thirtyyear.plot_simulation()\n",
    "\n",
    "# Save the plot for future usage\n",
    "line_plot.get_figure().savefig(\"MC_fiveyear_sim_plot.png\", bbox_inches=\"tight\")"
   ]
  },
  {
   "cell_type": "code",
   "execution_count": null,
   "metadata": {},
   "outputs": [],
   "source": [
    "# Plot probability distribution and confidence intervals\n",
    "\n",
    "\n",
    "# Save the plot for future usage\n"
   ]
  },
  {
   "cell_type": "code",
   "execution_count": null,
   "metadata": {},
   "outputs": [],
   "source": [
    "# Fetch summary statistics from the Monte Carlo simulation results\n",
    "\n",
    "\n",
    "# Print summary statistics\n"
   ]
  },
  {
   "cell_type": "code",
   "execution_count": null,
   "metadata": {},
   "outputs": [],
   "source": [
    "# Set initial investment\n",
    "\n",
    "\n",
    "\n",
    "# Use the lower and upper `95%` confidence intervals to calculate the range of the possible outcomes of our $60,000\n",
    "# YOUR CODE HERE!\n",
    "\n",
    "# Print results\n",
    "print(f\"There is a 95% chance that an initial investment of ${initial_investment} in the portfolio\"\n",
    "      f\" over the next 10 years will end within in the range of\"\n",
    "      f\" ${ci_lower_ten} and ${ci_upper_ten}\")"
   ]
  },
  {
   "cell_type": "code",
   "execution_count": null,
   "metadata": {},
   "outputs": [],
   "source": []
  }
 ],
 "metadata": {
  "kernelspec": {
   "display_name": "Python 3",
   "language": "python",
   "name": "python3"
  },
  "language_info": {
   "codemirror_mode": {
    "name": "ipython",
    "version": 3
   },
   "file_extension": ".py",
   "mimetype": "text/x-python",
   "name": "python",
   "nbconvert_exporter": "python",
   "pygments_lexer": "ipython3",
   "version": "3.7.6"
  }
 },
 "nbformat": 4,
 "nbformat_minor": 4
}
